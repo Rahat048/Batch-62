{
 "cells": [
  {
   "cell_type": "code",
   "execution_count": 1,
   "metadata": {},
   "outputs": [
    {
     "name": "stdout",
     "output_type": "stream",
     "text": [
      "Zaheer\n",
      "Nadeem\n",
      "Ahmad\n",
      "Ali\n"
     ]
    }
   ],
   "source": [
    "names:list=['Zaheer','Nadeem','Ahmad','Ali']\n",
    "print(names[0])\n",
    "print(names[1])\n",
    "print(names[2])\n",
    "print(names[3])"
   ]
  },
  {
   "cell_type": "code",
   "execution_count": 7,
   "metadata": {},
   "outputs": [
    {
     "name": "stdout",
     "output_type": "stream",
     "text": [
      "How are you Zaheer?\n",
      "How are you Nadeem?\n",
      "How are you Ahmad?\n",
      "How are you Ali?\n"
     ]
    }
   ],
   "source": [
    "massage='How are you'\n",
    "print(f'{massage} {names[0]}?')\n",
    "print(f'{massage} {names[1]}?')\n",
    "print(f'{massage} {names[2]}?')\n",
    "print(f'{massage} {names[3]}?')"
   ]
  },
  {
   "cell_type": "code",
   "execution_count": 10,
   "metadata": {},
   "outputs": [
    {
     "name": "stdout",
     "output_type": "stream",
     "text": [
      "My dream bike is Harley Davidson.\n",
      "What myth behind the death of Kawasaki in Pakistan?\n",
      "I love to have a Royal Enfield made in India.\n",
      "Suzuki is more reliable than Honda.\n"
     ]
    }
   ],
   "source": [
    "motorcycle:list=['Harley Davidson','Kawasaki','Royal Enfield','Honda']\n",
    "print(f'My dream bike is {motorcycle[0]}.')\n",
    "print(f'What myth behind the death of {motorcycle[1]} in Pakistan?')\n",
    "print(f'I love to have a {motorcycle[2]} made in India.')\n",
    "print(f'Suzuki is more reliable than {motorcycle[3]}.')"
   ]
  }
 ],
 "metadata": {
  "kernelspec": {
   "display_name": "Python 3",
   "language": "python",
   "name": "python3"
  },
  "language_info": {
   "codemirror_mode": {
    "name": "ipython",
    "version": 3
   },
   "file_extension": ".py",
   "mimetype": "text/x-python",
   "name": "python",
   "nbconvert_exporter": "python",
   "pygments_lexer": "ipython3",
   "version": "3.12.5"
  }
 },
 "nbformat": 4,
 "nbformat_minor": 2
}
