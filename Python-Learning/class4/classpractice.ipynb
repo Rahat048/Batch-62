{
 "cells": [
  {
   "cell_type": "code",
   "execution_count": 5,
   "metadata": {},
   "outputs": [
    {
     "name": "stdout",
     "output_type": "stream",
     "text": [
      "['a', 'b', 'c', 'd', 'e']\n",
      "['z', 'a', 'b', 'c', 'd', 'e']\n"
     ]
    }
   ],
   "source": [
    "food:list=['a','b','c','d']\n",
    "food.append('e')\n",
    "print(food)\n",
    "food.insert(0, 'z')\n",
    "print(food)"
   ]
  },
  {
   "cell_type": "code",
   "execution_count": 2,
   "metadata": {},
   "outputs": [
    {
     "name": "stdout",
     "output_type": "stream",
     "text": [
      "['ali', 'arif', 'nadeem']\n",
      "ali\n",
      "arif\n",
      "nadeem\n",
      "ali\n",
      "arif\n",
      "nadeem\n"
     ]
    }
   ],
   "source": [
    "guest:list=[]\n",
    "guest.append('ali')\n",
    "guest.append('arif')\n",
    "guest.append('nadeem')\n",
    "print(guest)\n",
    "print(guest[0])\n",
    "print(guest[1])\n",
    "print(guest[2])\n",
    "for x in guest:\n",
    "    print(x)"
   ]
  }
 ],
 "metadata": {
  "kernelspec": {
   "display_name": "Python 3",
   "language": "python",
   "name": "python3"
  },
  "language_info": {
   "codemirror_mode": {
    "name": "ipython",
    "version": 3
   },
   "file_extension": ".py",
   "mimetype": "text/x-python",
   "name": "python",
   "nbconvert_exporter": "python",
   "pygments_lexer": "ipython3",
   "version": "3.12.5"
  }
 },
 "nbformat": 4,
 "nbformat_minor": 2
}
